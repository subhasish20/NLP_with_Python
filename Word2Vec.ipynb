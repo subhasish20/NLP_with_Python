{
 "cells": [
  {
   "cell_type": "code",
   "execution_count": 1,
   "id": "3f836321",
   "metadata": {},
   "outputs": [],
   "source": [
    "from gensim.models import Word2Vec\n",
    "from nltk.tokenize import word_tokenize\n",
    "import nltk\n",
    "import pandas as pd\n",
    "import numpy as np"
   ]
  },
  {
   "cell_type": "code",
   "execution_count": 2,
   "id": "90840514",
   "metadata": {},
   "outputs": [],
   "source": [
    "story = [\n",
    "    \"Natural language processing is fun\",\n",
    "    \"I love learning about machine learning and AI\",\n",
    "    \"Word embeddings help computers understand text\",\n",
    "    \"Deep learning is a subset of machine learning\"\n",
    "]\n"
   ]
  },
  {
   "cell_type": "code",
   "execution_count": 3,
   "id": "21c9115b",
   "metadata": {},
   "outputs": [],
   "source": [
    "# Tokenize each sentence\n",
    "tokenized_story = [word_tokenize(sentence.lower()) for sentence in story]"
   ]
  },
  {
   "cell_type": "code",
   "execution_count": 4,
   "metadata": {},
   "outputs": [],
   "source": [
    "# Step 1: Initialize Word2Vec model\n",
    "model = Word2Vec(\n",
    "    window=3,      # context window size\n",
    "    min_count=1,   # ignore words with freq < 1\n",
    "    vector_size=50 # dimensions of embeddings\n",
    ")"
   ]
  },
  {
   "cell_type": "code",
   "execution_count": 5,
   "metadata": {},
   "outputs": [],
   "source": [
    "# Step 2: Build vocabulary\n",
    "model.build_vocab(tokenized_story)\n"
   ]
  },
  {
   "cell_type": "code",
   "execution_count": 6,
   "id": "468b97c0",
   "metadata": {},
   "outputs": [
    {
     "data": {
      "text/plain": [
       "(29, 135)"
      ]
     },
     "execution_count": 6,
     "metadata": {},
     "output_type": "execute_result"
    }
   ],
   "source": [
    "model.train(tokenized_story, total_examples=model.corpus_count, epochs=model.epochs)"
   ]
  },
  {
   "cell_type": "code",
   "execution_count": 7,
   "id": "5b9df31d",
   "metadata": {},
   "outputs": [
    {
     "name": "stdout",
     "output_type": "stream",
     "text": [
      "[('text', 0.27050724625587463), ('embeddings', 0.2111896127462387), ('and', 0.16784726083278656), ('word', 0.15041980147361755), ('fun', 0.13208134472370148), ('machine', 0.12713578343391418), ('love', 0.09980572760105133), ('a', 0.07080893963575363), ('computers', 0.05952741205692291), ('understand', 0.05034219101071358)]\n"
     ]
    }
   ],
   "source": [
    "# Step 4: Find similar words\n",
    "print(model.wv.most_similar('learning'))"
   ]
  },
  {
   "cell_type": "code",
   "execution_count": null,
   "id": "90dea163",
   "metadata": {},
   "outputs": [],
   "source": []
  }
 ],
 "metadata": {
  "kernelspec": {
   "display_name": ".venv",
   "language": "python",
   "name": "python3"
  },
  "language_info": {
   "codemirror_mode": {
    "name": "ipython",
    "version": 3
   },
   "file_extension": ".py",
   "mimetype": "text/x-python",
   "name": "python",
   "nbconvert_exporter": "python",
   "pygments_lexer": "ipython3",
   "version": "3.12.7"
  }
 },
 "nbformat": 4,
 "nbformat_minor": 5
}
