{
 "cells": [
  {
   "cell_type": "code",
   "execution_count": 22,
   "id": "dec7b121",
   "metadata": {},
   "outputs": [],
   "source": [
    "import pandas as pd \n",
    "import numpy as np"
   ]
  },
  {
   "cell_type": "code",
   "execution_count": 23,
   "id": "f81f8023",
   "metadata": {},
   "outputs": [],
   "source": [
    "import nltk"
   ]
  },
  {
   "cell_type": "code",
   "execution_count": 24,
   "id": "bde57611",
   "metadata": {},
   "outputs": [
    {
     "name": "stderr",
     "output_type": "stream",
     "text": [
      "[nltk_data] Downloading package punkt_tab to\n",
      "[nltk_data]     C:\\Users\\subha\\AppData\\Roaming\\nltk_data...\n",
      "[nltk_data]   Package punkt_tab is already up-to-date!\n"
     ]
    },
    {
     "data": {
      "text/plain": [
       "True"
      ]
     },
     "execution_count": 24,
     "metadata": {},
     "output_type": "execute_result"
    }
   ],
   "source": [
    "nltk.download('punkt_tab')"
   ]
  },
  {
   "cell_type": "code",
   "execution_count": 25,
   "id": "661b72f0",
   "metadata": {},
   "outputs": [],
   "source": [
    "import nltk\n",
    "from nltk.tokenize import word_tokenize"
   ]
  },
  {
   "cell_type": "code",
   "execution_count": 26,
   "id": "f732928a",
   "metadata": {},
   "outputs": [],
   "source": [
    "df1 = pd.read_csv(r\"data.csv\")"
   ]
  },
  {
   "cell_type": "code",
   "execution_count": 27,
   "id": "8285c35f",
   "metadata": {},
   "outputs": [
    {
     "data": {
      "text/html": [
       "<div>\n",
       "<style scoped>\n",
       "    .dataframe tbody tr th:only-of-type {\n",
       "        vertical-align: middle;\n",
       "    }\n",
       "\n",
       "    .dataframe tbody tr th {\n",
       "        vertical-align: top;\n",
       "    }\n",
       "\n",
       "    .dataframe thead th {\n",
       "        text-align: right;\n",
       "    }\n",
       "</style>\n",
       "<table border=\"1\" class=\"dataframe\">\n",
       "  <thead>\n",
       "    <tr style=\"text-align: right;\">\n",
       "      <th></th>\n",
       "      <th>id</th>\n",
       "      <th>product_name</th>\n",
       "      <th>review_text</th>\n",
       "      <th>label</th>\n",
       "    </tr>\n",
       "  </thead>\n",
       "  <tbody>\n",
       "    <tr>\n",
       "      <th>0</th>\n",
       "      <td>1</td>\n",
       "      <td>EverGlow LED Desk Lamp</td>\n",
       "      <td>I bought this lamp two months ago and it has b...</td>\n",
       "      <td>positive</td>\n",
       "    </tr>\n",
       "    <tr>\n",
       "      <th>1</th>\n",
       "      <td>2</td>\n",
       "      <td>QuickChug 32 oz Stainless Bottle</td>\n",
       "      <td>This bottle looks sleek and keeps coffee hot f...</td>\n",
       "      <td>negative</td>\n",
       "    </tr>\n",
       "    <tr>\n",
       "      <th>2</th>\n",
       "      <td>3</td>\n",
       "      <td>SnugFit Cotton Tee</td>\n",
       "      <td>The fabric is soft and breathable, perfect for...</td>\n",
       "      <td>positive</td>\n",
       "    </tr>\n",
       "    <tr>\n",
       "      <th>3</th>\n",
       "      <td>4</td>\n",
       "      <td>FlexiStep Yoga Mat</td>\n",
       "      <td>I practice yoga five times a week and this mat...</td>\n",
       "      <td>positive</td>\n",
       "    </tr>\n",
       "    <tr>\n",
       "      <th>4</th>\n",
       "      <td>5</td>\n",
       "      <td>SmartSlice Bread Knife</td>\n",
       "      <td>The blade arrived dull and could barely cut th...</td>\n",
       "      <td>negative</td>\n",
       "    </tr>\n",
       "  </tbody>\n",
       "</table>\n",
       "</div>"
      ],
      "text/plain": [
       "   id                      product_name  \\\n",
       "0   1            EverGlow LED Desk Lamp   \n",
       "1   2  QuickChug 32 oz Stainless Bottle   \n",
       "2   3                SnugFit Cotton Tee   \n",
       "3   4                FlexiStep Yoga Mat   \n",
       "4   5            SmartSlice Bread Knife   \n",
       "\n",
       "                                         review_text     label  \n",
       "0  I bought this lamp two months ago and it has b...  positive  \n",
       "1  This bottle looks sleek and keeps coffee hot f...  negative  \n",
       "2  The fabric is soft and breathable, perfect for...  positive  \n",
       "3  I practice yoga five times a week and this mat...  positive  \n",
       "4  The blade arrived dull and could barely cut th...  negative  "
      ]
     },
     "execution_count": 27,
     "metadata": {},
     "output_type": "execute_result"
    }
   ],
   "source": [
    "df1.head(5)"
   ]
  },
  {
   "cell_type": "code",
   "execution_count": 28,
   "id": "a850b33b",
   "metadata": {},
   "outputs": [
    {
     "data": {
      "text/plain": [
       "0                [EverGlow, LED, Desk, Lamp]\n",
       "1     [QuickChug, 32, oz, Stainless, Bottle]\n",
       "2                     [SnugFit, Cotton, Tee]\n",
       "3                     [FlexiStep, Yoga, Mat]\n",
       "4                 [SmartSlice, Bread, Knife]\n",
       "                       ...                  \n",
       "95                     [QuickFix, Tool, Kit]\n",
       "96                    [CloudRest, Eye, Mask]\n",
       "97                 [FlexiDesk, Phone, Stand]\n",
       "98               [PeakCharge, Wireless, Pad]\n",
       "99               [SwiftSlice, Pizza, Cutter]\n",
       "Name: product_name, Length: 100, dtype: object"
      ]
     },
     "execution_count": 28,
     "metadata": {},
     "output_type": "execute_result"
    }
   ],
   "source": [
    "df1['product_name'].apply(lambda x : word_tokenize(x))"
   ]
  },
  {
   "cell_type": "code",
   "execution_count": 29,
   "id": "76afe0b0",
   "metadata": {},
   "outputs": [
    {
     "data": {
      "text/plain": [
       "0     [I, bought, this, lamp, two, months, ago, and,...\n",
       "1     [This, bottle, looks, sleek, and, keeps, coffe...\n",
       "2     [The, fabric, is, soft, and, breathable, ,, pe...\n",
       "3     [I, practice, yoga, five, times, a, week, and,...\n",
       "4     [The, blade, arrived, dull, and, could, barely...\n",
       "                            ...                        \n",
       "95    [It, has, every, bit, I, ’, ve, needed, and, t...\n",
       "96    [Memory, foam, blocks, light, completely, and,...\n",
       "97    [It, holds, my, phone, horizontally, for, vide...\n",
       "98    [It, charges, my, phone, overnight, without, o...\n",
       "99    [The, sharp, wheel, slices, through, thick, cr...\n",
       "Name: review_text, Length: 100, dtype: object"
      ]
     },
     "execution_count": 29,
     "metadata": {},
     "output_type": "execute_result"
    }
   ],
   "source": [
    "df1['review_text'].apply(lambda x : word_tokenize(x))"
   ]
  },
  {
   "cell_type": "code",
   "execution_count": 30,
   "id": "15207457",
   "metadata": {},
   "outputs": [],
   "source": [
    "df2 = pd.read_csv(r\"Sentiment_dataset.csv\")"
   ]
  },
  {
   "cell_type": "code",
   "execution_count": 31,
   "id": "b7acbf4b",
   "metadata": {},
   "outputs": [
    {
     "data": {
      "text/html": [
       "<div>\n",
       "<style scoped>\n",
       "    .dataframe tbody tr th:only-of-type {\n",
       "        vertical-align: middle;\n",
       "    }\n",
       "\n",
       "    .dataframe tbody tr th {\n",
       "        vertical-align: top;\n",
       "    }\n",
       "\n",
       "    .dataframe thead th {\n",
       "        text-align: right;\n",
       "    }\n",
       "</style>\n",
       "<table border=\"1\" class=\"dataframe\">\n",
       "  <thead>\n",
       "    <tr style=\"text-align: right;\">\n",
       "      <th></th>\n",
       "      <th>text</th>\n",
       "      <th>sentiment</th>\n",
       "    </tr>\n",
       "  </thead>\n",
       "  <tbody>\n",
       "    <tr>\n",
       "      <th>0</th>\n",
       "      <td>Perfect addition to my collection!</td>\n",
       "      <td>positive</td>\n",
       "    </tr>\n",
       "    <tr>\n",
       "      <th>1</th>\n",
       "      <td>Most reliable brand out there!</td>\n",
       "      <td>positive</td>\n",
       "    </tr>\n",
       "    <tr>\n",
       "      <th>2</th>\n",
       "      <td>New wellness program options.</td>\n",
       "      <td>neutral</td>\n",
       "    </tr>\n",
       "    <tr>\n",
       "      <th>3</th>\n",
       "      <td>Saved me so much money!</td>\n",
       "      <td>positive</td>\n",
       "    </tr>\n",
       "    <tr>\n",
       "      <th>4</th>\n",
       "      <td>Remember to bring your ID to the office.</td>\n",
       "      <td>neutral</td>\n",
       "    </tr>\n",
       "  </tbody>\n",
       "</table>\n",
       "</div>"
      ],
      "text/plain": [
       "                                       text sentiment\n",
       "0        Perfect addition to my collection!  positive\n",
       "1            Most reliable brand out there!  positive\n",
       "2             New wellness program options.   neutral\n",
       "3                   Saved me so much money!  positive\n",
       "4  Remember to bring your ID to the office.   neutral"
      ]
     },
     "execution_count": 31,
     "metadata": {},
     "output_type": "execute_result"
    }
   ],
   "source": [
    "df2.head()"
   ]
  },
  {
   "cell_type": "code",
   "execution_count": 32,
   "id": "93c5b613",
   "metadata": {},
   "outputs": [
    {
     "data": {
      "text/plain": [
       "0             [Perfect, addition, to, my, collection, !]\n",
       "1                 [Most, reliable, brand, out, there, !]\n",
       "2                   [New, wellness, program, options, .]\n",
       "3                        [Saved, me, so, much, money, !]\n",
       "4      [Remember, to, bring, your, ID, to, the, offic...\n",
       "                             ...                        \n",
       "859           [Music, was, too, loud, at, the, venue, .]\n",
       "860             [Most, user-friendly, app, available, !]\n",
       "861           [All, employees, must, attend, session, .]\n",
       "862              [Exactly, matches, my, expectations, !]\n",
       "863         [Great, taste, and, healthy, ingredients, !]\n",
       "Name: text, Length: 864, dtype: object"
      ]
     },
     "execution_count": 32,
     "metadata": {},
     "output_type": "execute_result"
    }
   ],
   "source": [
    "df2['text'].apply(lambda x : word_tokenize(x))"
   ]
  },
  {
   "cell_type": "code",
   "execution_count": null,
   "id": "e84d3cdd",
   "metadata": {},
   "outputs": [],
   "source": []
  }
 ],
 "metadata": {
  "kernelspec": {
   "display_name": ".venv",
   "language": "python",
   "name": "python3"
  },
  "language_info": {
   "codemirror_mode": {
    "name": "ipython",
    "version": 3
   },
   "file_extension": ".py",
   "mimetype": "text/x-python",
   "name": "python",
   "nbconvert_exporter": "python",
   "pygments_lexer": "ipython3",
   "version": "3.12.7"
  }
 },
 "nbformat": 4,
 "nbformat_minor": 5
}
