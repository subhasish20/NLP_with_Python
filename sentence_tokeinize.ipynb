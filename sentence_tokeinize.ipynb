{
 "cells": [
  {
   "cell_type": "code",
   "execution_count": 1,
   "id": "51c0a249",
   "metadata": {},
   "outputs": [],
   "source": [
    "import pandas as pd \n",
    "import numpy as np \n",
    "import nltk\n",
    "from nltk.tokenize import sent_tokenize"
   ]
  },
  {
   "cell_type": "code",
   "execution_count": 2,
   "id": "40ff6194",
   "metadata": {},
   "outputs": [],
   "source": [
    "df = pd.read_csv(r\"data.csv\")"
   ]
  },
  {
   "cell_type": "code",
   "execution_count": 3,
   "id": "aa70301f",
   "metadata": {},
   "outputs": [
    {
     "data": {
      "text/html": [
       "<div>\n",
       "<style scoped>\n",
       "    .dataframe tbody tr th:only-of-type {\n",
       "        vertical-align: middle;\n",
       "    }\n",
       "\n",
       "    .dataframe tbody tr th {\n",
       "        vertical-align: top;\n",
       "    }\n",
       "\n",
       "    .dataframe thead th {\n",
       "        text-align: right;\n",
       "    }\n",
       "</style>\n",
       "<table border=\"1\" class=\"dataframe\">\n",
       "  <thead>\n",
       "    <tr style=\"text-align: right;\">\n",
       "      <th></th>\n",
       "      <th>id</th>\n",
       "      <th>product_name</th>\n",
       "      <th>review_text</th>\n",
       "      <th>label</th>\n",
       "    </tr>\n",
       "  </thead>\n",
       "  <tbody>\n",
       "    <tr>\n",
       "      <th>0</th>\n",
       "      <td>1</td>\n",
       "      <td>EverGlow LED Desk Lamp</td>\n",
       "      <td>I bought this lamp two months ago and it has b...</td>\n",
       "      <td>positive</td>\n",
       "    </tr>\n",
       "    <tr>\n",
       "      <th>1</th>\n",
       "      <td>2</td>\n",
       "      <td>QuickChug 32 oz Stainless Bottle</td>\n",
       "      <td>This bottle looks sleek and keeps coffee hot f...</td>\n",
       "      <td>negative</td>\n",
       "    </tr>\n",
       "    <tr>\n",
       "      <th>2</th>\n",
       "      <td>3</td>\n",
       "      <td>SnugFit Cotton Tee</td>\n",
       "      <td>The fabric is soft and breathable, perfect for...</td>\n",
       "      <td>positive</td>\n",
       "    </tr>\n",
       "    <tr>\n",
       "      <th>3</th>\n",
       "      <td>4</td>\n",
       "      <td>FlexiStep Yoga Mat</td>\n",
       "      <td>I practice yoga five times a week and this mat...</td>\n",
       "      <td>positive</td>\n",
       "    </tr>\n",
       "    <tr>\n",
       "      <th>4</th>\n",
       "      <td>5</td>\n",
       "      <td>SmartSlice Bread Knife</td>\n",
       "      <td>The blade arrived dull and could barely cut th...</td>\n",
       "      <td>negative</td>\n",
       "    </tr>\n",
       "  </tbody>\n",
       "</table>\n",
       "</div>"
      ],
      "text/plain": [
       "   id  ...     label\n",
       "0   1  ...  positive\n",
       "1   2  ...  negative\n",
       "2   3  ...  positive\n",
       "3   4  ...  positive\n",
       "4   5  ...  negative\n",
       "\n",
       "[5 rows x 4 columns]"
      ]
     },
     "execution_count": 3,
     "metadata": {},
     "output_type": "execute_result"
    }
   ],
   "source": [
    "df.head()"
   ]
  },
  {
   "cell_type": "code",
   "execution_count": 4,
   "id": "be23aaab",
   "metadata": {},
   "outputs": [
    {
     "data": {
      "text/plain": [
       "0     I bought this lamp two months ago and it has b...\n",
       "1     This bottle looks sleek and keeps coffee hot f...\n",
       "2     The fabric is soft and breathable, perfect for...\n",
       "3     I practice yoga five times a week and this mat...\n",
       "4     The blade arrived dull and could barely cut th...\n",
       "                            ...                        \n",
       "95    It has every bit I’ve needed and the case is c...\n",
       "96    Memory foam blocks light completely and the st...\n",
       "97    It holds my phone horizontally for video calls...\n",
       "98    It charges my phone overnight without overheat...\n",
       "99    The sharp wheel slices through thick crust wit...\n",
       "Name: review_text, Length: 100, dtype: object"
      ]
     },
     "execution_count": 4,
     "metadata": {},
     "output_type": "execute_result"
    }
   ],
   "source": [
    "df['review_text']"
   ]
  },
  {
   "cell_type": "code",
   "execution_count": 5,
   "id": "3687dd00",
   "metadata": {},
   "outputs": [
    {
     "data": {
      "text/plain": [
       "0     [I bought this lamp two months ago and it has ...\n",
       "1     [This bottle looks sleek and keeps coffee hot ...\n",
       "2     [The fabric is soft and breathable, perfect fo...\n",
       "3     [I practice yoga five times a week and this ma...\n",
       "4     [The blade arrived dull and could barely cut t...\n",
       "                            ...                        \n",
       "95    [It has every bit I’ve needed and the case is ...\n",
       "96    [Memory foam blocks light completely and the s...\n",
       "97    [It holds my phone horizontally for video call...\n",
       "98    [It charges my phone overnight without overhea...\n",
       "99    [The sharp wheel slices through thick crust wi...\n",
       "Name: review_text, Length: 100, dtype: object"
      ]
     },
     "execution_count": 5,
     "metadata": {},
     "output_type": "execute_result"
    }
   ],
   "source": [
    "df['review_text'].apply(lambda x : sent_tokenize(x))"
   ]
  },
  {
   "cell_type": "code",
   "execution_count": 12,
   "id": "f1801126",
   "metadata": {},
   "outputs": [
    {
     "data": {
      "text/plain": [
       "['I bought this lamp two months ago and it has become the centerpiece of my study desk.',\n",
       " 'The four color-temperature modes are fantastic for late-night reading because my eyes never feel strained.',\n",
       " 'Assembly took less than five minutes and the base feels heavy enough that my cat can’t knock it over.',\n",
       " 'I only wish the power brick were a little smaller, but that’s a minor gripe.',\n",
       " 'Overall, I’m impressed and would buy again.']"
      ]
     },
     "execution_count": 12,
     "metadata": {},
     "output_type": "execute_result"
    }
   ],
   "source": [
    "df['review_text'].apply(lambda x : sent_tokenize(x))[0]"
   ]
  },
  {
   "cell_type": "code",
   "execution_count": null,
   "id": "e4936962",
   "metadata": {},
   "outputs": [],
   "source": []
  },
  {
   "cell_type": "code",
   "execution_count": null,
   "id": "2006140b",
   "metadata": {},
   "outputs": [],
   "source": []
  }
 ],
 "metadata": {
  "kernelspec": {
   "display_name": ".venv",
   "language": "python",
   "name": "python3"
  },
  "language_info": {
   "codemirror_mode": {
    "name": "ipython",
    "version": 3
   },
   "file_extension": ".py",
   "mimetype": "text/x-python",
   "name": "python",
   "nbconvert_exporter": "python",
   "pygments_lexer": "ipython3",
   "version": "3.12.7"
  }
 },
 "nbformat": 4,
 "nbformat_minor": 5
}
