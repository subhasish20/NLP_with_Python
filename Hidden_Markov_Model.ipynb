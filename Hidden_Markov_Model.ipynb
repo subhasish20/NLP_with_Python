{
 "cells": [
  {
   "cell_type": "code",
   "execution_count": null,
   "id": "e4c5a119",
   "metadata": {},
   "outputs": [],
   "source": [
    "import nltk\n",
    "from nltk.tag import hmm\n",
    "from nltk import word_tokenize\n",
    "nltk.download('averaged_perceptron_tagger')"
   ]
  },
  {
   "cell_type": "code",
   "execution_count": null,
   "id": "c20a4ea1",
   "metadata": {},
   "outputs": [],
   "source": [
    "train_sentences = [\n",
    "    \"Nitish love campusx\",\n",
    "    \"Can Nitish google campusx\",\n",
    "    \"Will ankita google campusx\",\n",
    "    \"Ankita loves will\",\n",
    "    \"Will loves google\"\n",
    "]"
   ]
  },
  {
   "cell_type": "code",
   "execution_count": null,
   "id": "d552eb84",
   "metadata": {},
   "outputs": [],
   "source": [
    "# Step 2: Tokenize & Auto POS tag\n",
    "tagged_sentences = []\n",
    "for sent in train_sentences:\n",
    "    tokens = word_tokenize(sent)\n",
    "    tagged = nltk.pos_tag(tokens)  # Auto POS tagging\n",
    "    tagged_sentences.append(tagged)\n"
   ]
  },
  {
   "cell_type": "code",
   "execution_count": null,
   "id": "9a6efd92",
   "metadata": {},
   "outputs": [],
   "source": [
    "# Step 3: Train HMM model\n",
    "trainer = hmm.HiddenMarkovModelTrainer()\n",
    "hmm_model = trainer.train_supervised(tagged_sentences)\n"
   ]
  },
  {
   "cell_type": "code",
   "execution_count": null,
   "id": "13cc4dd1",
   "metadata": {},
   "outputs": [],
   "source": [
    "# Step 4: Predict tags for a new sentence\n",
    "test_sentence = \"Will will google campusx\".split()\n",
    "predicted_tags = hmm_model.tag(test_sentence)\n"
   ]
  },
  {
   "cell_type": "code",
   "execution_count": null,
   "id": "ebb6e8eb",
   "metadata": {},
   "outputs": [],
   "source": [
    "print(\"Sentence:\", test_sentence)\n",
    "print(\"Predicted POS tags:\", predicted_tags)\n"
   ]
  },
  {
   "cell_type": "code",
   "execution_count": null,
   "id": "45ffe8e3",
   "metadata": {},
   "outputs": [],
   "source": []
  }
 ],
 "metadata": {
  "kernelspec": {
   "display_name": ".venv",
   "language": "python",
   "name": "python3"
  },
  "language_info": {
   "codemirror_mode": {
    "name": "ipython",
    "version": 3
   },
   "file_extension": ".py",
   "mimetype": "text/x-python",
   "name": "python",
   "nbconvert_exporter": "python",
   "pygments_lexer": "ipython3",
   "version": "3.12.7"
  }
 },
 "nbformat": 4,
 "nbformat_minor": 5
}
